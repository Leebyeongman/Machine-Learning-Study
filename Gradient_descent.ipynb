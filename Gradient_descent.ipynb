{
 "cells": [
  {
   "cell_type": "code",
   "execution_count": 11,
   "metadata": {
    "collapsed": false
   },
   "outputs": [
    {
     "name": "stdout",
     "output_type": "stream",
     "text": [
      "0 10.772814 [0.12279606]\n",
      "1 3.0642672 [0.5321579]\n",
      "2 0.8716136 [0.7504842]\n",
      "3 0.24792565 [0.86692494]\n",
      "4 0.07052098 [0.92902666]\n",
      "5 0.020059315 [0.96214753]\n",
      "6 0.0057057748 [0.979812]\n",
      "7 0.001622969 [0.9892331]\n",
      "8 0.00046164962 [0.9942576]\n",
      "9 0.00013131156 [0.9969374]\n",
      "10 3.7352198e-05 [0.9983666]\n",
      "11 1.0623635e-05 [0.9991289]\n",
      "12 3.0220149e-06 [0.9995354]\n",
      "13 8.5959334e-07 [0.9997522]\n",
      "14 2.445139e-07 [0.99986786]\n",
      "15 6.9439764e-08 [0.99992955]\n",
      "16 1.9790281e-08 [0.9999624]\n",
      "17 5.655881e-09 [0.9999799]\n",
      "18 1.6115109e-09 [0.9999893]\n",
      "19 4.5838533e-10 [0.9999943]\n",
      "20 1.2828494e-10 [0.99999696]\n"
     ]
    }
   ],
   "source": [
    "import tensorflow as tf\n",
    "x_data = [1, 2, 3]\n",
    "y_data = [1, 2, 3]\n",
    "\n",
    "W = tf.Variable(tf.random_normal([1]), name='weight')\n",
    "X = tf.placeholder(tf.float32)\n",
    "Y = tf.placeholder(tf.float32)\n",
    "\n",
    "# Our hypothesis for linear model X * W\n",
    "hypothesis = X * W\n",
    "\n",
    "# cost/loss function\n",
    "cost = tf.reduce_sum(tf.square(hypothesis - Y))\n",
    "\n",
    "# Minimize: Gradient Descent using derivative: W -= learning_rate * derivative\n",
    "learning_rate = 0.1\n",
    "gradient = tf.reduce_mean((W * X - Y) * X)\n",
    "descent = W - learning_rate * gradient\n",
    "update = W.assign(descent)\n",
    "\n",
    "# Launch the graph in a session.\n",
    "sess = tf.Session()\n",
    "sess.run(tf.global_variables_initializer())\n",
    "\n",
    "# Initializes global variables in the graph.\n",
    "for step in range(21):\n",
    "    sess.run(update, feed_dict={X: x_data, Y: y_data})\n",
    "    print(step, sess.run(cost, feed_dict={X: x_data, Y: y_data}), sess.run(W))"
   ]
  }
 ],
 "metadata": {
  "anaconda-cloud": {},
  "kernelspec": {
   "display_name": "Python [conda env:tensorflow_env]",
   "language": "python",
   "name": "conda-env-tensorflow_env-py"
  },
  "language_info": {
   "codemirror_mode": {
    "name": "ipython",
    "version": 3
   },
   "file_extension": ".py",
   "mimetype": "text/x-python",
   "name": "python",
   "nbconvert_exporter": "python",
   "pygments_lexer": "ipython3",
   "version": "3.5.4"
  }
 },
 "nbformat": 4,
 "nbformat_minor": 1
}
