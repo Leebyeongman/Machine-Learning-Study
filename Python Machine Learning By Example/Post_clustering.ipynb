{
 "cells": [
  {
   "cell_type": "code",
   "execution_count": 1,
   "metadata": {
    "collapsed": false
   },
   "outputs": [
    {
     "data": {
      "image/png": "[encoded data removed]",
      "text/plain": [
       "<Figure size 432x288 with 1 Axes>"
      ]
     },
     "metadata": {},
     "output_type": "display_data"
    }
   ],
   "source": [
    "from sklearn.feature_extraction.text import CountVectorizer\n",
    "from sklearn.datasets import fetch_20newsgroups\n",
    "from nltk.corpus import names\n",
    "from nltk.stem import WordNetLemmatizer\n",
    "from sklearn.cluster import KMeans\n",
    "import matplotlib.pyplot as plt\n",
    "\n",
    "\n",
    "def letters_only(astr):\n",
    "    for c in astr:\n",
    "        if not c.isalpha():\n",
    "            return False\n",
    "\n",
    "    return True\n",
    "\n",
    "cv = CountVectorizer(stop_words=\"english\", max_features=500)\n",
    "groups = fetch_20newsgroups()\n",
    "cleaned = []\n",
    "all_names = set(names.words())\n",
    "lemmatizer = WordNetLemmatizer()\n",
    "\n",
    "for post in groups.data:\n",
    "    cleaned.append(' '.join([lemmatizer.lemmatize(word.lower())\n",
    "                             for word in post.split()\n",
    "                             if letters_only(word)\n",
    "                             and word not in all_names]))\n",
    "\n",
    "transformed = cv.fit_transform(cleaned)\n",
    "km = KMeans(n_clusters=20)\n",
    "km.fit(transformed)\n",
    "labels = groups.target\n",
    "plt.scatter(labels, km.labels_)\n",
    "plt.xlabel('Newsgroup')\n",
    "plt.ylabel('Cluster')\n",
    "plt.show()\n"
   ]
  }
 ],
 "metadata": {
  "kernelspec": {
   "display_name": "Python [conda env:tensorflow_env]",
   "language": "python",
   "name": "conda-env-tensorflow_env-py"
  },
  "language_info": {
   "codemirror_mode": {
    "name": "ipython",
    "version": 3
   },
   "file_extension": ".py",
   "mimetype": "text/x-python",
   "name": "python",
   "nbconvert_exporter": "python",
   "pygments_lexer": "ipython3",
   "version": "3.5.4"
  }
 },
 "nbformat": 4,
 "nbformat_minor": 1
}
