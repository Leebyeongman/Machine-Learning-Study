{
 "cells": [
  {
   "cell_type": "code",
   "execution_count": 10,
   "metadata": {
    "collapsed": false
   },
   "outputs": [
    {
     "name": "stdout",
     "output_type": "stream",
     "text": [
      "a:\n",
      " [13 10 11]\n",
      "인덱스의 개수 =  1\n",
      "tf.argmax(a, 0): 인덱스  0 이 가장 큽니다.\n"
     ]
    }
   ],
   "source": [
    "import tensorflow as tf\n",
    "\n",
    "a = tf.constant([13, 10, 11])\n",
    "\n",
    "session = tf.Session()\n",
    "print('a:\\n', session.run(a))\n",
    "print('인덱스의 개수 = ', session.run(tf.rank(a)) )\n",
    "print('tf.argmax(a, 0): 인덱스 ', session.run(tf.argmax(a, 0)), '이 가장 큽니다.')"
   ]
  }
 ],
 "metadata": {
  "kernelspec": {
   "display_name": "Python [conda env:tensorflow_env]",
   "language": "python",
   "name": "conda-env-tensorflow_env-py"
  },
  "language_info": {
   "codemirror_mode": {
    "name": "ipython",
    "version": 3
   },
   "file_extension": ".py",
   "mimetype": "text/x-python",
   "name": "python",
   "nbconvert_exporter": "python",
   "pygments_lexer": "ipython3",
   "version": "3.5.4"
  }
 },
 "nbformat": 4,
 "nbformat_minor": 1
}
