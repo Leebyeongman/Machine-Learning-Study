{
 "cells": [
  {
   "cell_type": "code",
   "execution_count": 3,
   "metadata": {
    "collapsed": false
   },
   "outputs": [
    {
     "name": "stdout",
     "output_type": "stream",
     "text": [
      "1  *  2  =  2\n",
      "2  *  4  =  8\n",
      "3  *  6  =  18\n",
      "4  *  8  =  32\n",
      "5  *  10  =  50\n",
      "6  *  12  =  72\n",
      "7  *  14  =  98\n",
      "8  *  16  =  128\n",
      "9  *  18  =  162\n"
     ]
    }
   ],
   "source": [
    "from __future__ import print_function\n",
    "\n",
    "import tensorflow as tf\n",
    "\n",
    "\n",
    "a = tf.placeholder(tf.int16)\n",
    "b = tf.placeholder(tf.int16)\n",
    "\n",
    "#print(a)\n",
    "#print(a.op)\n",
    "#\n",
    "# 변수 a는 플레이스 홀더의 출력 텐서를 가리키고 있습니다.\n",
    "# Tensor(\"Placeholder:0\", dtype=int16)\n",
    "#\n",
    "# a.op를 출력해보면\n",
    "# name: \"Placeholder\"\n",
    "# op: \"Placeholder\"            플레이스 홀더 오퍼레이션을 의미합니다.\n",
    "# attr {\n",
    "#   key: \"dtype\"\n",
    "#   value {\n",
    "#     type: DT_INT16           출력 텐서의 데이터 타입이 16비트 정수입니다.\n",
    "#   }\n",
    "# }\n",
    "# attr {\n",
    "#   key: \"shape\"\n",
    "#   value {\n",
    "#     shape {\n",
    "#       unknown_rank: true    플레이스 홀더는 나중에 입력을 받기 때문에 차원이 정해져 있지 않습니다.\n",
    "#     }\n",
    "#   }\n",
    "# }\n",
    "\n",
    "\n",
    "# 플레이스 홀더 텐서를 사용하여 수행할 오퍼레이션을 정의합니다.\n",
    "mul = tf.multiply(a, b)\n",
    "\n",
    "# 플레이스 홀더에 입력할 값을 리스트로 생성합니다.\n",
    "X = list(range(1, 10, 1))\n",
    "Y = list(range(2, 20, 2))\n",
    "\n",
    "with tf.Session() as sess:\n",
    "    # 플레이스 홀더에 연속적인 데이터를 입력할 수 도 있습니다.\n",
    "    Z = sess.run(mul, feed_dict={a: X, b: Y})\n",
    "\n",
    "for x, y, z in zip(X, Y, Z):  # zip 함수는 같은 크기의 리스트의 데이터를 조합하여 튜플을 리턴합니다.\n",
    "    print( x, ' * ', y, ' = ', z)\n",
    "    "
   ]
  }
 ],
 "metadata": {
  "kernelspec": {
   "display_name": "Python [conda env:tensorflow_env]",
   "language": "python",
   "name": "conda-env-tensorflow_env-py"
  },
  "language_info": {
   "codemirror_mode": {
    "name": "ipython",
    "version": 3
   },
   "file_extension": ".py",
   "mimetype": "text/x-python",
   "name": "python",
   "nbconvert_exporter": "python",
   "pygments_lexer": "ipython3",
   "version": "3.5.4"
  }
 },
 "nbformat": 4,
 "nbformat_minor": 1
}
